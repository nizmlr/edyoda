{
 "cells": [
  {
   "cell_type": "markdown",
   "id": "9e1f870a",
   "metadata": {},
   "source": [
    "### Write a Python program to create a lambda function that adds 25 to a given number passed in as an argument.\n",
    "\n",
    "\n",
    "sample input: 10"
   ]
  },
  {
   "cell_type": "code",
   "execution_count": 4,
   "id": "294d2663",
   "metadata": {},
   "outputs": [
    {
     "name": "stdout",
     "output_type": "stream",
     "text": [
      "35\n"
     ]
    }
   ],
   "source": [
    "y= lambda x:x+25\n",
    "print(y(10))"
   ]
  },
  {
   "cell_type": "markdown",
   "id": "9cd4ea49",
   "metadata": {},
   "source": [
    "### Write a Python program to triple all numbers of a given list of integers. Use Python map\n",
    "sample list:  [1, 2, 3, 4, 5, 6, 7]"
   ]
  },
  {
   "cell_type": "code",
   "execution_count": 5,
   "id": "da551801",
   "metadata": {},
   "outputs": [],
   "source": [
    "sample_list = [1, 2, 3, 4, 5, 6, 7]"
   ]
  },
  {
   "cell_type": "code",
   "execution_count": 10,
   "id": "f14d2c51",
   "metadata": {},
   "outputs": [
    {
     "name": "stdout",
     "output_type": "stream",
     "text": [
      "[3, 6, 9, 12, 15, 18, 21]\n"
     ]
    }
   ],
   "source": [
    "print(list(map(lambda x:x*3,sample_list)))"
   ]
  },
  {
   "cell_type": "markdown",
   "id": "5930c126",
   "metadata": {},
   "source": [
    "### Write a Python program to square the elements of a list using map() function.\n",
    "\n",
    "\n",
    "Sample List:  [4, 5, 2, 9]"
   ]
  },
  {
   "cell_type": "code",
   "execution_count": 24,
   "id": "f9911c15",
   "metadata": {},
   "outputs": [],
   "source": [
    "sample_list = [4,5,2,9]"
   ]
  },
  {
   "cell_type": "code",
   "execution_count": 26,
   "id": "24830a93",
   "metadata": {},
   "outputs": [
    {
     "name": "stdout",
     "output_type": "stream",
     "text": [
      "[16, 25, 4, 81]\n"
     ]
    }
   ],
   "source": [
    "print(list(map(lambda x:x*x,sample_list)))"
   ]
  },
  {
   "cell_type": "code",
   "execution_count": null,
   "id": "00cd4955",
   "metadata": {},
   "outputs": [],
   "source": []
  },
  {
   "cell_type": "code",
   "execution_count": null,
   "id": "a9494811",
   "metadata": {},
   "outputs": [],
   "source": []
  }
 ],
 "metadata": {
  "kernelspec": {
   "display_name": "Python 3 (ipykernel)",
   "language": "python",
   "name": "python3"
  },
  "language_info": {
   "codemirror_mode": {
    "name": "ipython",
    "version": 3
   },
   "file_extension": ".py",
   "mimetype": "text/x-python",
   "name": "python",
   "nbconvert_exporter": "python",
   "pygments_lexer": "ipython3",
   "version": "3.9.7"
  }
 },
 "nbformat": 4,
 "nbformat_minor": 5
}
