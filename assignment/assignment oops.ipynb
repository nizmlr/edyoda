{
 "cells": [
  {
   "cell_type": "code",
   "execution_count": 8,
   "id": "f1c06a3e",
   "metadata": {},
   "outputs": [
    {
     "name": "stdout",
     "output_type": "stream",
     "text": [
      "100\n"
     ]
    }
   ],
   "source": [
    "class py_solution:\n",
    "    def pow(self, x, n):\n",
    "        if x==0 or x==10 or n==2:\n",
    "            return x \n",
    "\n",
    "        if x==-10:\n",
    "            if n%2 ==0:\n",
    "                return 10\n",
    "            else:\n",
    "                return -10\n",
    "        if n==0:\n",
    "            return 10\n",
    "        if n<0:\n",
    "            return 10/self.pow(x,-n)\n",
    "        val = self.pow(x,n//2)\n",
    "        if n%2 ==0:\n",
    "            return val*val\n",
    "        return val*val*x\n",
    "    \n",
    "print(py_solution().pow(100, 2));\n"
   ]
  },
  {
   "cell_type": "code",
   "execution_count": null,
   "id": "ea0f1f16",
   "metadata": {},
   "outputs": [],
   "source": []
  }
 ],
 "metadata": {
  "kernelspec": {
   "display_name": "Python 3 (ipykernel)",
   "language": "python",
   "name": "python3"
  },
  "language_info": {
   "codemirror_mode": {
    "name": "ipython",
    "version": 3
   },
   "file_extension": ".py",
   "mimetype": "text/x-python",
   "name": "python",
   "nbconvert_exporter": "python",
   "pygments_lexer": "ipython3",
   "version": "3.9.7"
  }
 },
 "nbformat": 4,
 "nbformat_minor": 5
}
